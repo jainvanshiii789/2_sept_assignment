{
 "cells": [
  {
   "cell_type": "markdown",
   "id": "4635a523-fc1c-4834-abe6-f6795551495e",
   "metadata": {},
   "source": [
    "# 2_sept_assignment:"
   ]
  },
  {
   "cell_type": "markdown",
   "id": "15bfcbc9-1f72-4a22-bc15-60a824e447c0",
   "metadata": {},
   "source": [
    "## Basic level Questions:"
   ]
  },
  {
   "cell_type": "markdown",
   "id": "e6c40f3c-2fa2-47a8-b498-3fba7ef1cd52",
   "metadata": {},
   "source": [
    "Q.1 print numbers from 1 to 10 using for loop:"
   ]
  },
  {
   "cell_type": "code",
   "execution_count": 13,
   "id": "da8cd6b6-cc2e-42bc-96c8-1cfc44065b56",
   "metadata": {},
   "outputs": [
    {
     "name": "stdout",
     "output_type": "stream",
     "text": [
      "1 2 3 4 5 6 7 8 9 10 "
     ]
    }
   ],
   "source": [
    "for i in range(1,11):\n",
    "    print(i,end = \" \")"
   ]
  },
  {
   "cell_type": "markdown",
   "id": "aa856701-0990-4b72-8735-58d9d41c927e",
   "metadata": {},
   "source": [
    "2. Create a program that calculates the sum of all numbers in a list using a `for` loop."
   ]
  },
  {
   "cell_type": "code",
   "execution_count": 15,
   "id": "7c858a7d-4076-4921-a7ed-45b19861cde1",
   "metadata": {},
   "outputs": [
    {
     "name": "stdout",
     "output_type": "stream",
     "text": [
      "The total sum of the numbers is: 14\n"
     ]
    }
   ],
   "source": [
    "# Initialize a list of numbers:\n",
    "lst = [1,2,3,4,4]\n",
    "# Initialize a variable to sum:\n",
    "total_sum = 0\n",
    "#Iterate through the list:\n",
    "for num in lst:\n",
    "    total_sum += num\n",
    "# print the result:    \n",
    "print(\"The total sum of the numbers is:\",total_sum)\n"
   ]
  },
  {
   "cell_type": "markdown",
   "id": "382dc5a4-742c-4b9a-8632-a46d6319583b",
   "metadata": {},
   "source": [
    "3. Write a program to print the characters of a string in reverse order using a `for` loop. "
   ]
  },
  {
   "cell_type": "code",
   "execution_count": 17,
   "id": "90f4a30e-404f-4a16-b01e-b69d5dee1fc6",
   "metadata": {},
   "outputs": [
    {
     "name": "stdout",
     "output_type": "stream",
     "text": [
      "original sytring: vanshika\n",
      "Reversed string: akihsnav\n"
     ]
    }
   ],
   "source": [
    "# input a string:\n",
    "string = \"vanshika\"\n",
    "# initialize an empty string to store the reversed characters:\n",
    "reversed_string = \"\"\n",
    "#iterate through the string in reverse order using for loop:\n",
    "for char in reversed(string):\n",
    "    reversed_string += char\n",
    "#print the reversed string:\n",
    "print(\"original sytring:\",string)\n",
    "print(\"Reversed string:\",reversed_string)"
   ]
  },
  {
   "cell_type": "markdown",
   "id": "82c73581-534f-42cf-9d7c-8cc979f7cf6c",
   "metadata": {},
   "source": [
    "4. Develop a program that finds the factorial of a given number using a `for` loop."
   ]
  },
  {
   "cell_type": "code",
   "execution_count": 19,
   "id": "fd722ea7-a579-4059-8e56-91ff25e1d1fc",
   "metadata": {},
   "outputs": [
    {
     "name": "stdin",
     "output_type": "stream",
     "text": [
      "Enter a num to find its factorial:  3\n"
     ]
    },
    {
     "name": "stdout",
     "output_type": "stream",
     "text": [
      "the factorial of 3 is 6\n"
     ]
    }
   ],
   "source": [
    "# get the number from the user:\n",
    "num = int(input(\"Enter a num to find its factorial: \"))\n",
    "\n",
    "# Initialize the factorial to 1:\n",
    "factorial = 1\n",
    "# check if the num is neg,zero or pos:\n",
    "if num < 0:\n",
    "    print(\"factorial is not defined for negative numbers.\")\n",
    "elif num == 0:\n",
    "    print(\"The factorial of 0 is 1\")\n",
    "else:\n",
    "    #calculate the factorial using a for loop;\n",
    "    for i in range(1,num + 1):\n",
    "        factorial *= i\n",
    "    #print the result:\n",
    "    print(f\"the factorial of {num} is {factorial}\")"
   ]
  },
  {
   "cell_type": "markdown",
   "id": "b259d06a-affb-4422-8d9b-af8140181390",
   "metadata": {},
   "source": [
    "5. Create a program to print the multiplication table of a given number using a `for` loop."
   ]
  },
  {
   "cell_type": "code",
   "execution_count": 21,
   "id": "c7b7ffcd-ed58-4640-8289-ec6236831a4f",
   "metadata": {},
   "outputs": [
    {
     "name": "stdin",
     "output_type": "stream",
     "text": [
      "Enter a num to print its multiplication table:  4\n"
     ]
    },
    {
     "name": "stdout",
     "output_type": "stream",
     "text": [
      "Multiplication table for 4 is:\n",
      "4 x 1 = 4\n",
      "4 x 2 = 8\n",
      "4 x 3 = 12\n",
      "4 x 4 = 16\n",
      "4 x 5 = 20\n",
      "4 x 6 = 24\n",
      "4 x 7 = 28\n",
      "4 x 8 = 32\n",
      "4 x 9 = 36\n",
      "4 x 10 = 40\n"
     ]
    }
   ],
   "source": [
    "# input : Get the num from user for which you want to print the multiplication table:\n",
    "num = int(input(\"Enter a num to print its multiplication table: \"))\n",
    "#print the multiplication table using a for loop:\n",
    "print(\"Multiplication table for\",num,\"is:\")\n",
    "for i in range(1,11):\n",
    "    product = num*i\n",
    "    print(f\"{num} x {i} = {product}\" )"
   ]
  },
  {
   "cell_type": "markdown",
   "id": "cc6211ba-fe0a-4714-8ddd-159f0d75dd00",
   "metadata": {},
   "source": [
    "6. Write a program that counts the number of even and odd numbers in a list using a `for` loop."
   ]
  },
  {
   "cell_type": "code",
   "execution_count": 1,
   "id": "37220736-0f06-4886-8359-e739459fb32c",
   "metadata": {},
   "outputs": [
    {
     "name": "stdout",
     "output_type": "stream",
     "text": [
      "the count of even numbers : 4\n",
      "the count of odd numbers : 5\n"
     ]
    }
   ],
   "source": [
    "#define a list:\n",
    "lst = [1,2,3,4,5,6,7,8,9]\n",
    "#intialize counters for even and odd numbers:\n",
    "even_count = 0\n",
    "odd_count = 0\n",
    "for i in lst:\n",
    "    if i%2 == 0:\n",
    "        even_count += 1\n",
    "    else:\n",
    "        odd_count += 1\n",
    "        \n",
    "print(\"the count of even numbers :\",even_count)\n",
    "print(\"the count of odd numbers :\",odd_count)\n",
    "        \n",
    "        "
   ]
  },
  {
   "cell_type": "markdown",
   "id": "24bb059c-a6a7-46e1-bb44-a13960e94548",
   "metadata": {},
   "source": [
    "7. Develop a program that prints the squares of numbers from 1 to 5 using a `for` loop."
   ]
  },
  {
   "cell_type": "code",
   "execution_count": 3,
   "id": "e3ad077d-c72d-4960-8658-fc98038fe5b7",
   "metadata": {},
   "outputs": [
    {
     "name": "stdout",
     "output_type": "stream",
     "text": [
      "1 4 9 16 25 "
     ]
    }
   ],
   "source": [
    "for i in range(1,6):\n",
    "    square = i**2\n",
    "    print(square,end = ' ')"
   ]
  },
  {
   "cell_type": "markdown",
   "id": "8265ad65-3662-4d5e-b036-06a3ec73a36e",
   "metadata": {},
   "source": [
    "8. Create a program to find the length of a string without using the `len()` function."
   ]
  },
  {
   "cell_type": "code",
   "execution_count": 6,
   "id": "83e5257a-6e13-4183-8e96-2b43c8d1befd",
   "metadata": {},
   "outputs": [
    {
     "name": "stdout",
     "output_type": "stream",
     "text": [
      "the length of vanshika is 8 .\n"
     ]
    }
   ],
   "source": [
    "# Example string:\n",
    "string = \"vanshika\"\n",
    "# intitialize a variable count:\n",
    "count = 0\n",
    "# iterate throgh the string using for loop:\n",
    "for char in string:\n",
    "    count += 1\n",
    "# print the length of string:\n",
    "print(f\"the length of {string} is {count} .\")"
   ]
  },
  {
   "cell_type": "markdown",
   "id": "9ef3d5f0-cdd1-4d1c-bed7-07f47b050288",
   "metadata": {},
   "source": [
    "9. Write a program that calculates the average of a list of numbers using a `for` loop."
   ]
  },
  {
   "cell_type": "code",
   "execution_count": 7,
   "id": "e44c22d1-bb8a-4f2e-bb38-f6ea418b4946",
   "metadata": {},
   "outputs": [
    {
     "name": "stdout",
     "output_type": "stream",
     "text": [
      "list of numbers: [20, 40, 60, 50, 10]\n",
      "Average: 36.0\n"
     ]
    }
   ],
   "source": [
    "lst = [20,40,60,50,10]\n",
    "total_sum = 0\n",
    "count = 0\n",
    "for num in lst:\n",
    "    total_sum += num\n",
    "    count += 1\n",
    "    \n",
    "if count == 0:\n",
    "    print(\"The list is empty,can not calculate the average.\")\n",
    "else:\n",
    "    #calculate average:\n",
    "    average = total_sum/count\n",
    "    \n",
    "    #print the result.\n",
    "    print(\"list of numbers:\",lst)\n",
    "    print(\"Average:\",average)"
   ]
  },
  {
   "cell_type": "markdown",
   "id": "806e439f-cfa9-4f49-b004-181b7a45d046",
   "metadata": {},
   "source": [
    "10. Develop a program that prints the first `n` Fibonacci numbers using a `for` loop."
   ]
  },
  {
   "cell_type": "code",
   "execution_count": 8,
   "id": "0519f8e7-5e38-4f22-939f-05a7b5d6657c",
   "metadata": {},
   "outputs": [
    {
     "name": "stdin",
     "output_type": "stream",
     "text": [
      "Enter the number of fibonacci numbers to generate:  5\n"
     ]
    },
    {
     "name": "stdout",
     "output_type": "stream",
     "text": [
      "First 5 fibonacci numbers: \n",
      "0 1 1 2 3 "
     ]
    }
   ],
   "source": [
    "# Get the values of n from user:\n",
    "n = int(input(\"Enter the number of fibonacci numbers to generate: \"))\n",
    "\n",
    "#Initialize variables for the first two fibonacci numbers:\n",
    "fibonacci_seq = [0,1]\n",
    "\n",
    "# Generate the fibonaci numbers using a for loop:\n",
    "for i in range(2,n):\n",
    "    next_fibonacci = fibonacci_seq[-1] + fibonacci_seq[-2]\n",
    "    fibonacci_seq.append(next_fibonacci)\n",
    "    \n",
    "# print the first n fibonacci numbers\n",
    "print(\"First\",n,\"fibonacci numbers: \")\n",
    "for num in fibonacci_seq:\n",
    "    print(num,end = ' ')"
   ]
  },
  {
   "cell_type": "markdown",
   "id": "13377b43-4655-4f11-b6cf-663cffa0ff20",
   "metadata": {},
   "source": [
    "## Intermediate level questions:"
   ]
  },
  {
   "cell_type": "markdown",
   "id": "8d08e7d4-219f-466a-adcc-c11fa7c24328",
   "metadata": {},
   "source": [
    "11. Write a program to check if a given list contains any duplicates using a `for` loop."
   ]
  },
  {
   "cell_type": "code",
   "execution_count": 9,
   "id": "bdd2ae4e-0e61-4c54-8613-1dc6df2ee436",
   "metadata": {},
   "outputs": [
    {
     "name": "stdout",
     "output_type": "stream",
     "text": [
      "The list contains duplicates.\n"
     ]
    }
   ],
   "source": [
    "# given list:\n",
    "my_list = [1,2,3,4,5,1]\n",
    "\n",
    "# flag to indicate if duplicates are found:\n",
    "has_duplicates = False\n",
    "\n",
    "# Iterate through the list using a for loop:\n",
    "for i in range(len(my_list)):\n",
    "    item = my_list[i]\n",
    "    if my_list.count(item) > 1:\n",
    "        has_duplicates = True\n",
    "        break  #Exit the loop if a duplicate is found.\n",
    "        \n",
    "# check if duplicates were found and print the result:\n",
    "if has_duplicates:\n",
    "    print(\"The list contains duplicates.\")\n",
    "else:\n",
    "    print(\"The list does not contain duplicates.\")\n",
    "        "
   ]
  },
  {
   "cell_type": "markdown",
   "id": "8a781c36-7edf-48ce-88dc-210e93e09b67",
   "metadata": {},
   "source": [
    "12. Create a program that prints the prime numbers in a given range using a `for` loop."
   ]
  },
  {
   "cell_type": "code",
   "execution_count": 11,
   "id": "75c1b37b-76f5-4652-ba18-6cd6f7eed2f8",
   "metadata": {},
   "outputs": [
    {
     "name": "stdout",
     "output_type": "stream",
     "text": [
      "Prime numbers between 900 and 1000 are :\n",
      "907 911 919 929 937 941 947 953 967 971 977 983 991 997 "
     ]
    }
   ],
   "source": [
    "# python program to display all the prime numbers within an interval:\n",
    "\n",
    "lower = 900\n",
    "upper = 1000\n",
    "\n",
    "print(\"Prime numbers between\",lower,\"and\",upper,\"are :\")\n",
    "\n",
    "for num in range(lower,upper + 1):\n",
    "    # all prime numbers are greater than one:\n",
    "    if num >1:\n",
    "        for i in range(2,int(num**0.5) + 1):\n",
    "            if (num % i) == 0:\n",
    "                break\n",
    "        else:\n",
    "            print(num,end = \" \")"
   ]
  },
  {
   "cell_type": "markdown",
   "id": "a62bd7f6-7726-48a3-aeba-8111c49ed618",
   "metadata": {},
   "source": [
    "13. Develop a program that counts the number of vowels in a string using a `for` loop."
   ]
  },
  {
   "cell_type": "code",
   "execution_count": 14,
   "id": "fc8d11c4-bee4-4e44-8406-42daca155582",
   "metadata": {},
   "outputs": [
    {
     "name": "stdout",
     "output_type": "stream",
     "text": [
      "3\n"
     ]
    }
   ],
   "source": [
    "string = \"harry potter\"\n",
    "vowels =\"aeiou\"\n",
    "string = string.casefold()\n",
    "vowel_count = 0\n",
    "for i in string:\n",
    "    if i in vowels:\n",
    "        vowel_count += 1\n",
    "print(vowel_count)"
   ]
  },
  {
   "cell_type": "markdown",
   "id": "b5a2dfa6-34e4-4dd5-8504-cf0e54c7c406",
   "metadata": {},
   "source": [
    "14. Write a program to find the maximum element in a 2D list using a nested `for` loop."
   ]
  },
  {
   "cell_type": "code",
   "execution_count": 15,
   "id": "7d210ca2-c81d-456f-b5ae-e5002aa64e5e",
   "metadata": {},
   "outputs": [
    {
     "name": "stdout",
     "output_type": "stream",
     "text": [
      "-inf\n",
      "The maximum element in the 2D list is: 9\n"
     ]
    }
   ],
   "source": [
    "# sample 2D list\n",
    "matrix = [\n",
    "    [1,2,3],\n",
    "    [4,5,6],\n",
    "    [7,8,9]\n",
    "]\n",
    "\n",
    "# Initialize max_element with the minimum possible value:\n",
    "max_element = float('-inf')\n",
    "print(max_element)\n",
    "# Nested for loop to iterate through the 2D list\n",
    "for row in matrix:\n",
    "    for element in row:\n",
    "        if element > max_element:\n",
    "            max_element = element\n",
    "\n",
    "print(f\"The maximum element in the 2D list is: {max_element}\")"
   ]
  },
  {
   "cell_type": "markdown",
   "id": "25c87d5c-1662-4b46-af83-1cf281a3f793",
   "metadata": {},
   "source": [
    "15. Create a program that removes all occurrences of a specific element from a list using a `for` loop."
   ]
  },
  {
   "cell_type": "code",
   "execution_count": 4,
   "id": "543a7136-14a7-4941-bb52-c21148e57a1e",
   "metadata": {},
   "outputs": [
    {
     "name": "stdin",
     "output_type": "stream",
     "text": [
      "Enter the element to remove : 2\n"
     ]
    },
    {
     "name": "stdout",
     "output_type": "stream",
     "text": [
      "List after removing all occurences of  2 : [1, 3, 4, 5]\n"
     ]
    }
   ],
   "source": [
    "# Given list:\n",
    "my_list = [1,2,3,4,2,5,2]\n",
    " \n",
    "# element to remove\n",
    "element_to_remove = int(input(\"Enter the element to remove :\"))\n",
    "\n",
    "#Use a for loop to remove all occurences of the element:\n",
    "# we iterate in reverse to avoid issues with shifting elements:\n",
    "for i in range(len(my_list) -1,-1,-1):\n",
    "    if my_list[i] == element_to_remove:\n",
    "        my_list.pop(i)\n",
    "        \n",
    "# print the list after removal\n",
    "print(\"List after removing all occurences of \",element_to_remove,\":\",my_list)"
   ]
  },
  {
   "cell_type": "markdown",
   "id": "d17a2ee8-7148-40c4-9e71-a411a01c0ee8",
   "metadata": {},
   "source": [
    "16. Develop a program that generates a multiplication table for numbers from 1 to 5 using a nested `for` loop."
   ]
  },
  {
   "cell_type": "code",
   "execution_count": 6,
   "id": "7375e452-6242-445f-8e23-9d6b279e5f9c",
   "metadata": {},
   "outputs": [
    {
     "name": "stdout",
     "output_type": "stream",
     "text": [
      "Multiplication table for 1 :\n",
      "1 x 1 = 1\n",
      "1 x 2 = 2\n",
      "1 x 3 = 3\n",
      "1 x 4 = 4\n",
      "1 x 5 = 5\n",
      "1 x 6 = 6\n",
      "1 x 7 = 7\n",
      "1 x 8 = 8\n",
      "1 x 9 = 9\n",
      "1 x 10 = 10\n",
      "\n",
      "Multiplication table for 2 :\n",
      "2 x 1 = 2\n",
      "2 x 2 = 4\n",
      "2 x 3 = 6\n",
      "2 x 4 = 8\n",
      "2 x 5 = 10\n",
      "2 x 6 = 12\n",
      "2 x 7 = 14\n",
      "2 x 8 = 16\n",
      "2 x 9 = 18\n",
      "2 x 10 = 20\n",
      "\n",
      "Multiplication table for 3 :\n",
      "3 x 1 = 3\n",
      "3 x 2 = 6\n",
      "3 x 3 = 9\n",
      "3 x 4 = 12\n",
      "3 x 5 = 15\n",
      "3 x 6 = 18\n",
      "3 x 7 = 21\n",
      "3 x 8 = 24\n",
      "3 x 9 = 27\n",
      "3 x 10 = 30\n",
      "\n",
      "Multiplication table for 4 :\n",
      "4 x 1 = 4\n",
      "4 x 2 = 8\n",
      "4 x 3 = 12\n",
      "4 x 4 = 16\n",
      "4 x 5 = 20\n",
      "4 x 6 = 24\n",
      "4 x 7 = 28\n",
      "4 x 8 = 32\n",
      "4 x 9 = 36\n",
      "4 x 10 = 40\n",
      "\n",
      "Multiplication table for 5 :\n",
      "5 x 1 = 5\n",
      "5 x 2 = 10\n",
      "5 x 3 = 15\n",
      "5 x 4 = 20\n",
      "5 x 5 = 25\n",
      "5 x 6 = 30\n",
      "5 x 7 = 35\n",
      "5 x 8 = 40\n",
      "5 x 9 = 45\n",
      "5 x 10 = 50\n",
      "\n"
     ]
    }
   ],
   "source": [
    "# nested for loop to generate the multiplication table:\n",
    "for i in range(1,6):\n",
    "    print(f\"Multiplication table for {i} :\")\n",
    "    for j in range(1,11):\n",
    "        result = i*j\n",
    "        print(f\"{i} x {j} = {result}\")\n",
    "    print() #add a blank to separate the tables:"
   ]
  },
  {
   "cell_type": "markdown",
   "id": "587e246c-ceee-42cc-9de2-c07edd1dbf3d",
   "metadata": {},
   "source": [
    "17. Write a program that converts a list of Fahrenheit temperatures to Celsius using a `for` loop."
   ]
  },
  {
   "cell_type": "code",
   "execution_count": 21,
   "id": "962432df-5011-4162-a28b-3069621c9327",
   "metadata": {},
   "outputs": [
    {
     "name": "stdout",
     "output_type": "stream",
     "text": [
      "list of fahrenheit : [273, 283, 293]\n",
      "converted to celsius : [133.88888888888889, 139.44444444444446, 145.0]\n"
     ]
    }
   ],
   "source": [
    "# create a list of fahrenheit temperature:\n",
    "fahrenheit = [273,283,293]\n",
    "# use list comprehension to convert fahreheit to celsius:\n",
    "celsius = [(i-32)*5/9 for i in fahrenheit]\n",
    "# print celsius temperature:\n",
    "print(\"list of fahrenheit :\",fahrenheit)\n",
    "print(\"converted to celsius :\",celsius)"
   ]
  },
  {
   "cell_type": "markdown",
   "id": "c760c6a1-e45e-4053-96a2-82974a82d06c",
   "metadata": {},
   "source": [
    "18. Create a program to print the common elements from two lists using a `for` loop."
   ]
  },
  {
   "cell_type": "code",
   "execution_count": 12,
   "id": "f764d497-b8ba-43cd-ba72-851c05983ad0",
   "metadata": {},
   "outputs": [
    {
     "name": "stdout",
     "output_type": "stream",
     "text": [
      "common elements in list1 and list2: \n",
      "3 4 5 "
     ]
    }
   ],
   "source": [
    "# Two sample lists:,\n",
    "list1 = [1,2,3,4,5]\n",
    "list2 = [3,4,5,6,7]\n",
    "#Initialize a list to store common elemnts;\n",
    "common_elements = []\n",
    "# use a for loop to find common elemnts:\n",
    "for i1 in list1:\n",
    "    for i2 in list2:\n",
    "        if i1 == i2:\n",
    "            common_elements.append(i1)\n",
    "            \n",
    "#print the common elements:\n",
    "if common_elements:\n",
    "    print(\"common elements in list1 and list2: \")\n",
    "    for element in common_elements:\n",
    "        print(element,end = ' ')\n",
    "else:\n",
    "    print(\"There are no common elements between list1 and list2.\")\n",
    "    "
   ]
  },
  {
   "cell_type": "markdown",
   "id": "eb60c8a7-c9d0-456a-abc1-8ebdb17f4322",
   "metadata": {},
   "source": [
    "19. Develop a program that prints the pattern of right-angled triangles using a `for` loop. Use ‘*’ to draw the pattern."
   ]
  },
  {
   "cell_type": "code",
   "execution_count": 14,
   "id": "7e249246-ad85-42fe-9f1f-fa5f19796bc9",
   "metadata": {},
   "outputs": [
    {
     "name": "stdout",
     "output_type": "stream",
     "text": [
      "* \n",
      "* * \n",
      "* * * \n",
      "* * * * \n",
      "* * * * * \n"
     ]
    }
   ],
   "source": [
    "# Define the number of rows for the pattern:\n",
    "num_rows = 5\n",
    "\n",
    "#use nested for loops to print the pattern:\n",
    "for i in range(1,num_rows + 1):\n",
    "    for j in range(i):\n",
    "        print('*',end = ' ')\n",
    "    print()"
   ]
  },
  {
   "cell_type": "code",
   "execution_count": 15,
   "id": "169acbfe-7829-4a84-b33b-e04eedc0d109",
   "metadata": {},
   "outputs": [
    {
     "name": "stdout",
     "output_type": "stream",
     "text": [
      "* * * * * \n",
      "* * * * \n",
      "* * * \n",
      "* * \n",
      "* \n"
     ]
    }
   ],
   "source": [
    "n = 5\n",
    "for i in range(5,0,-1):\n",
    "    for j in range(i):\n",
    "        print('*',end = ' ')\n",
    "    print()"
   ]
  },
  {
   "cell_type": "markdown",
   "id": "8692aca7-6024-4ac5-9ffd-10c3f89df7b5",
   "metadata": {},
   "source": [
    "20. Write a program to find the greatest common divisor (GCD) of two numbers using a `for` loop."
   ]
  },
  {
   "cell_type": "code",
   "execution_count": 16,
   "id": "f2773529-6730-4816-be24-364d33ad030e",
   "metadata": {},
   "outputs": [
    {
     "name": "stdin",
     "output_type": "stream",
     "text": [
      "Enter the first number: 4\n",
      "Enter the second number : 2\n"
     ]
    },
    {
     "name": "stdout",
     "output_type": "stream",
     "text": [
      "The greatest common divisor (GCD) of 4 and 2 is 2\n"
     ]
    }
   ],
   "source": [
    "# Input two numbers:\n",
    "num1 = int(input(\"Enter the first number:\"))\n",
    "num2 = int(input(\"Enter the second number :\"))\n",
    "\n",
    "# Find the minimum of the two numbers;\n",
    "min_num = min(num1,num2)\n",
    "\n",
    "# Initialize the GCD varibles to 1 (as 1 is always acommon divisoe)\n",
    "gcd = 1\n",
    "\n",
    "# use a for loop to find the GCD:\n",
    "for i in range(1,min_num + 1):\n",
    "    if num1 % i == 0 and num2 % i == 0:\n",
    "        gcd = i\n",
    "        \n",
    "    #print the GCD:\n",
    "print(f\"The greatest common divisor (GCD) of {num1} and {num2} is {gcd}\")"
   ]
  },
  {
   "cell_type": "markdown",
   "id": "c2453005-4b00-4d6d-ab9d-31779dfc32c7",
   "metadata": {},
   "source": [
    "## Advance level questions:"
   ]
  },
  {
   "cell_type": "markdown",
   "id": "50c4e5f7-f83f-4319-a3af-baa14a692303",
   "metadata": {},
   "source": [
    "21. Create a program that calculates the sum of the digits of numbers in a list using a list comprehension."
   ]
  },
  {
   "cell_type": "code",
   "execution_count": 18,
   "id": "2123053e-75d6-4978-a7e0-fb74b17c66a3",
   "metadata": {},
   "outputs": [
    {
     "name": "stdout",
     "output_type": "stream",
     "text": [
      "sum of digits for each number:\n",
      "Number : 123,Sum of digits : 6\n",
      "Number : 466,Sum of digits : 16\n",
      "Number : 789,Sum of digits : 24\n",
      "Number : 101,Sum of digits : 2\n"
     ]
    }
   ],
   "source": [
    "# Input list of numbers :\n",
    "numbers = [123,466,789,101]\n",
    "#Define a list comprehension to claculate the sum of digits for each number:\n",
    "digit_sums = [sum(int(digit) for digit in str(number)) for number in numbers]\n",
    "\n",
    "# print the list of digits sum:\n",
    "print(\"sum of digits for each number:\")\n",
    "for i in range(len(numbers)):\n",
    "    print(f\"Number : {numbers[i]},Sum of digits : {digit_sums[i]}\")"
   ]
  },
  {
   "cell_type": "markdown",
   "id": "ad3499cc-4c0b-4503-988d-18cd9409ccff",
   "metadata": {},
   "source": [
    "22. Write a program to find the prime factors of a given number using a `for` loop and list comprehension."
   ]
  },
  {
   "cell_type": "code",
   "execution_count": 24,
   "id": "761a62fb-106a-4566-9fc0-3df744a07396",
   "metadata": {},
   "outputs": [
    {
     "name": "stdin",
     "output_type": "stream",
     "text": [
      "Enter a number :  19\n"
     ]
    },
    {
     "name": "stdout",
     "output_type": "stream",
     "text": [
      "The prime factors of 19 are : [19]\n"
     ]
    }
   ],
   "source": [
    "# input number:\n",
    "num = int(input(\"Enter a number : \"))\n",
    "\n",
    "#find prime factors using list comprehension and for loop:\n",
    "prime_factors = [x for x in range(2,num + 1) if num % x == 0 and all(x % i !=0 for i in range(2,int(x**0.5) + 1))]\n",
    "\n",
    "#print the prime factors:\n",
    "if prime_factors:\n",
    "    print(f\"The prime factors of {num} are : {prime_factors}\")\n",
    "else:\n",
    "    print(f\"{num} has no prime factors other than 1 and itself.\")"
   ]
  },
  {
   "cell_type": "markdown",
   "id": "5882331c-23c0-4393-865d-863e4f73d420",
   "metadata": {},
   "source": [
    "23. Develop a program that extracts unique elements from a list and stores them in a new list using a list comprehension"
   ]
  },
  {
   "cell_type": "code",
   "execution_count": 23,
   "id": "26c4850e-0b44-480e-8a8d-6043010a3521",
   "metadata": {},
   "outputs": [
    {
     "name": "stdout",
     "output_type": "stream",
     "text": [
      "[1, 2, 3, 4, 5, 6]\n"
     ]
    }
   ],
   "source": [
    "# input list with duplicates:\n",
    "input_list = [1,2,2,3,4,4,5,6,6]\n",
    "#use a list comprehension to extract unique elemenys:\n",
    "unique_ele = [x for i, x in enumerate(input_list) if x not in input_list[:i]]\n",
    "\n",
    "# print the list of unique elements:\n",
    "print(unique_ele)"
   ]
  },
  {
   "cell_type": "markdown",
   "id": "9a6c4a1b-1b2f-4980-9b1f-640620f9dc9d",
   "metadata": {},
   "source": [
    "24. Create a program that generates a list of all palindromic numbers up to a specified limit using a list comprehension."
   ]
  },
  {
   "cell_type": "code",
   "execution_count": 26,
   "id": "432ed65f-13e0-4e65-bfed-cfc192cb6d44",
   "metadata": {},
   "outputs": [
    {
     "name": "stdin",
     "output_type": "stream",
     "text": [
      "Enter the limit for palindromic numbers:  32\n"
     ]
    },
    {
     "name": "stdout",
     "output_type": "stream",
     "text": [
      "Palindromic numbers up to 32 are: [1, 2, 3, 4, 5, 6, 7, 8, 9, 11, 22]\n"
     ]
    }
   ],
   "source": [
    "# input limit for palindromic numbers:\n",
    "limit = int(input(\"Enter the limit for palindromic numbers: \"))\n",
    "\n",
    "# use a list comprehension to generate palindromic numbers:\n",
    "palindromic_numbers = [num for num in range(1,limit + 1) if str(num) == str(num)[::-1]]\n",
    "\n",
    "# print the list of palindromic numbers:\n",
    "print(\"Palindromic numbers up to\",limit,\"are:\",palindromic_numbers)"
   ]
  },
  {
   "cell_type": "markdown",
   "id": "7c327747-41d0-4d48-9060-ff2f58fd7cf6",
   "metadata": {},
   "source": [
    "25. Write a program to flatten a nested list using list comprehension."
   ]
  },
  {
   "cell_type": "code",
   "execution_count": 28,
   "id": "a6dac82d-fbd6-4ba6-9422-5fb6e0729c60",
   "metadata": {},
   "outputs": [
    {
     "name": "stdout",
     "output_type": "stream",
     "text": [
      "original nested list : [[1, 2, 3], [4, 5], [6, 7, 8]]\n",
      "Flattened list : [1, 2, 3, 4, 5, 6, 7, 8]\n"
     ]
    }
   ],
   "source": [
    "# Nested list:\n",
    "nested_list = [[1,2,3],[4,5],[6,7,8]]\n",
    " # Flatten the nested list using list comprehension:\n",
    "flattened_list = [element for sublist in nested_list for element in sublist]\n",
    "    #print the flattened list:\n",
    "print(\"original nested list :\",nested_list)\n",
    "print(\"Flattened list :\",flattened_list)"
   ]
  },
  {
   "cell_type": "markdown",
   "id": "08300898-f05a-4cce-a0be-5c0b50b70ea3",
   "metadata": {},
   "source": [
    "26. Develop a program that computes the sum of even and odd numbers in a list separately using list\n",
    "comprehension."
   ]
  },
  {
   "cell_type": "code",
   "execution_count": 29,
   "id": "c851ebb5-760b-4515-ba29-889b76810242",
   "metadata": {},
   "outputs": [
    {
     "name": "stdout",
     "output_type": "stream",
     "text": [
      "original list : [1, 2, 3, 4, 5, 6, 7, 8, 9]\n",
      "Even numbers: [2, 4, 6, 8]\n",
      "odd numbers : [1, 3, 5, 7, 9]\n",
      "Sum of even numbers : 20\n",
      "Sum of odd numbers : [1, 3, 5, 7, 9]\n"
     ]
    }
   ],
   "source": [
    "#list \n",
    "numbers = [1,2,3,4,5,6,7,8,9]\n",
    "# use list comprehension:\n",
    "even_num = [x for x in numbers if x%2 == 0]\n",
    "odd_num = [x for x in numbers if x%2 != 0]\n",
    "\n",
    "#calculate sum:\n",
    "sum_even = sum(even_num)\n",
    "sum_odd = sum(odd_num)\n",
    "\n",
    "#print the sums:\n",
    "print(\"original list :\",numbers)\n",
    "print(\"Even numbers:\",even_num)\n",
    "print(\"odd numbers :\",odd_num)\n",
    "print(\"Sum of even numbers :\",sum_even)\n",
    "print(\"Sum of odd numbers :\",odd_num)"
   ]
  },
  {
   "cell_type": "markdown",
   "id": "0f36b9e5-6b42-478b-b106-850a40bd7365",
   "metadata": {},
   "source": [
    "27. Create a program that generates a list of squares of odd numbers between 1 and 10 using list\n",
    "comprehension."
   ]
  },
  {
   "cell_type": "code",
   "execution_count": 30,
   "id": "8982aac5-d193-47ff-a572-59ad5d04dfeb",
   "metadata": {},
   "outputs": [
    {
     "name": "stdout",
     "output_type": "stream",
     "text": [
      "Squares of add numbers between 1 and 10: [1, 9, 25, 49, 81]\n"
     ]
    }
   ],
   "source": [
    "# use list comprehension:\n",
    "squares_odd = [x**2 for x in range(1,11) if x%2 != 0]\n",
    "\n",
    "#print the list of squares:\n",
    "print(\"Squares of add numbers between 1 and 10:\",squares_odd)"
   ]
  },
  {
   "cell_type": "markdown",
   "id": "14010a4a-d18d-40e7-8746-a85e59fb1328",
   "metadata": {},
   "source": [
    "28. Write a program that combines two lists into a dictionary using list comprehension."
   ]
  },
  {
   "cell_type": "code",
   "execution_count": 31,
   "id": "5e0decf9-2457-49df-9887-09522f57a8f2",
   "metadata": {},
   "outputs": [
    {
     "name": "stdout",
     "output_type": "stream",
     "text": [
      "Combined dictionary : {'a': 1, 'b': 2, 'c': 3}\n"
     ]
    }
   ],
   "source": [
    "# Two lists of keys and values:'\n",
    "keys = ['a','b','c']\n",
    "values = [1,2,3]\n",
    "\n",
    "# combine the two lists into a dictionary using list comprehension:\n",
    "combined_dict = {key: value for key,value in zip(keys,values)}\n",
    "\n",
    "# Print the resulting dictionary:\n",
    "print(\"Combined dictionary :\",combined_dict)"
   ]
  },
  {
   "cell_type": "markdown",
   "id": "d853cd0c-6430-442d-8873-4baf9ee172bb",
   "metadata": {},
   "source": [
    "29. Develop a program that extracts the vowels from a string and stores them in a list using list comprehension"
   ]
  },
  {
   "cell_type": "code",
   "execution_count": 33,
   "id": "9104c19c-8a97-4de7-a2da-c670430a51c5",
   "metadata": {},
   "outputs": [
    {
     "name": "stdin",
     "output_type": "stream",
     "text": [
      "Enter a string here : vanshika\n"
     ]
    },
    {
     "name": "stdout",
     "output_type": "stream",
     "text": [
      "['a', 'i', 'a']\n"
     ]
    }
   ],
   "source": [
    "# input string\n",
    "string = input(\"Enter a string here :\")\n",
    "vowels = [i for i in string if i in 'aeiou']\n",
    "print(vowels)"
   ]
  },
  {
   "cell_type": "markdown",
   "id": "7663cd20-f5a4-490c-8b5c-f77600ff4a0c",
   "metadata": {},
   "source": [
    "30. Create a program that removes all non-numeric characters from a list of strings using list comprehension."
   ]
  },
  {
   "cell_type": "code",
   "execution_count": 35,
   "id": "67f9ede1-b214-460b-b116-5f6e0276293c",
   "metadata": {},
   "outputs": [
    {
     "name": "stdout",
     "output_type": "stream",
     "text": [
      "original list of strings: ['abc123', 'xyz456', '123def', '789']\n",
      "List of numeric strings : ['1 2 3', '4 5 6', '1 2 3', '7 8 9']\n"
     ]
    }
   ],
   "source": [
    "# Input lists of strings:\n",
    "strings = [\"abc123\",\"xyz456\",\"123def\",\"789\"]\n",
    "\n",
    "# use list comprehension :\n",
    "numeric_string = [' '.join(char for char in string if char.isdigit()) for string in strings]\n",
    "\n",
    "# print the list :\n",
    "print(\"original list of strings:\",strings)\n",
    "print(\"List of numeric strings :\",numeric_string)"
   ]
  },
  {
   "cell_type": "code",
   "execution_count": null,
   "id": "ecad918f-bf57-4a76-9270-7649b3f3ef8e",
   "metadata": {},
   "outputs": [],
   "source": []
  },
  {
   "cell_type": "markdown",
   "id": "099c47cb-6e0a-4408-b7c2-05023510939d",
   "metadata": {},
   "source": [
    "## Challenge level:"
   ]
  },
  {
   "cell_type": "markdown",
   "id": "fe878829-62e2-4941-b0d0-2b50767438e3",
   "metadata": {},
   "source": [
    "31. Write a program to generate a list of prime numbers using the Sieve of Eratosthenes algorithm and list\n",
    "comprehension."
   ]
  },
  {
   "cell_type": "code",
   "execution_count": 1,
   "id": "6d46ac3e-0929-48c4-9cb3-eff755881cab",
   "metadata": {},
   "outputs": [
    {
     "name": "stdin",
     "output_type": "stream",
     "text": [
      "Enter the limit for generating prime numbers:  15\n"
     ]
    },
    {
     "name": "stdout",
     "output_type": "stream",
     "text": [
      "Prime numbers up to 15 are: [5, 7, 11, 13]\n"
     ]
    }
   ],
   "source": [
    "# Input limit for generating prime numbers:\n",
    "limit = int(input(\"Enter the limit for generating prime numbers: \"))\n",
    "\n",
    "#Create a list to reoresent numbers from 2 to the limit :\n",
    "numbers = [True] * (limit + 1)\n",
    "numbers[0] = numbers[1] = False\n",
    "\n",
    "# Use the Sieve of Eratosthenes algorithm to mark non-prime numbers:\n",
    "for i in range(2,int(limit**0.5) + 1):\n",
    "    if numbers[i]:\n",
    "        for j in range(i**2,limit+1,i):\n",
    "            numbers[j] = False\n",
    "            \n",
    "# Generate a list of prime numbers using list comprehension:\n",
    "prime_numbers = [i for i ,is_prime in enumerate(numbers) if is_prime]\n",
    "\n",
    "# Remove 0 and 1 from the list of prime numbers:\n",
    "prime_numbers = prime_numbers[2:]\n",
    "\n",
    "# Print the list of prime numbers:\n",
    "print(\"Prime numbers up to\",limit,\"are:\",prime_numbers)\n",
    "    "
   ]
  },
  {
   "cell_type": "markdown",
   "id": "39e539f2-a496-4613-907e-6b8957555af9",
   "metadata": {},
   "source": [
    "32. Create a program that generates a list of all Pythagorean triplets up to a specified limit using list\n",
    "comprehension."
   ]
  },
  {
   "cell_type": "code",
   "execution_count": 3,
   "id": "f3ec1663-2129-41a1-8916-99677b6bdf10",
   "metadata": {},
   "outputs": [
    {
     "name": "stdin",
     "output_type": "stream",
     "text": [
      "Enter the limit for generating pythagorean triplets: 5\n"
     ]
    },
    {
     "name": "stdout",
     "output_type": "stream",
     "text": [
      "Pythagorean triplets up to 5 are: [(3, 4, 5)]\n"
     ]
    }
   ],
   "source": [
    "#  input limit for generating Pythagoren triplets:\n",
    "limit = int(input(\"Enter the limit for generating pythagorean triplets:\"))\n",
    "\n",
    "# use list comprehension to generate pythagoren triplets:\n",
    "pythagorean_triplets = [(a,b,c) for a in range(1,limit + 1)\n",
    "                        for b in range(a,limit+1)\n",
    "                        for c in range(b,limit+1)\n",
    "                        if a**2 + b**2 == c**2]\n",
    "\n",
    "#Print the list of Pythagorean triplets :\n",
    "print(\"Pythagorean triplets up to\",limit,\"are:\",pythagorean_triplets)"
   ]
  },
  {
   "cell_type": "markdown",
   "id": "9c5855ec-a73a-48cf-9528-71a5c1ce4767",
   "metadata": {},
   "source": [
    "33. Develop a program that generates a list of all possible combinations of two lists using list comprehension."
   ]
  },
  {
   "cell_type": "code",
   "execution_count": 4,
   "id": "0f66bf7d-3cca-4f6b-aca5-76ee1de56152",
   "metadata": {},
   "outputs": [
    {
     "name": "stdout",
     "output_type": "stream",
     "text": [
      "All possible combinations of two lists:\n",
      "(1, 'a')\n",
      "(1, 'b')\n",
      "(2, 'a')\n",
      "(2, 'b')\n",
      "(3, 'a')\n",
      "(3, 'b')\n"
     ]
    }
   ],
   "source": [
    "# Input lists\n",
    "list1 = [1,2,3]\n",
    "list2 = ['a','b']\n",
    "\n",
    "#Use list comprehension to generate all possible combinations:\n",
    "combinations = [(x,y) for x in list1 for y in list2]\n",
    "\n",
    "#Print the list of combinations:\n",
    "print(\"All possible combinations of two lists:\")\n",
    "for combination in combinations:\n",
    "    print(combination)"
   ]
  },
  {
   "cell_type": "markdown",
   "id": "064a2037-1ceb-43f8-93b9-2b970db51cd6",
   "metadata": {},
   "source": [
    "34. Write a program that calculates the mean, median, and mode of a list of numbers using list\n",
    "comprehension."
   ]
  },
  {
   "cell_type": "code",
   "execution_count": 5,
   "id": "72ba7978-ca65-47c8-b4ae-7a7f4835b6bf",
   "metadata": {},
   "outputs": [
    {
     "name": "stdout",
     "output_type": "stream",
     "text": [
      "Mean: 4.4\n",
      "Meadian: 4.5\n",
      "Mode [6]\n"
     ]
    }
   ],
   "source": [
    "from collections import Counter\n",
    "\n",
    "# Input list of numbers:\n",
    "numbers = [1,2,3,4,4,5,6,6,6,7]\n",
    "\n",
    "# Calculate the Mean using list comprehension:\n",
    "mean = sum(numbers)/len(numbers)\n",
    "\n",
    "#Calculate the Median using list comprehension:\n",
    "sorted_numbers = sorted(numbers)\n",
    "n = len(sorted_numbers)\n",
    "median = (sorted_numbers[n//2] + sorted_numbers[(n-1)//2]) /2\n",
    "\n",
    "# Calculate the Mode using list comprehension:\n",
    "count_dict = Counter(numbers)\n",
    "max_count = max(count_dict.values())\n",
    "mode = [key for key , value in count_dict.items() if value == max_count]\n",
    "\n",
    "# Print the Mean,Median,MOde:\n",
    "print(\"Mean:\",mean)\n",
    "print(\"Meadian:\",median)\n",
    "print(\"Mode\",mode)"
   ]
  },
  {
   "cell_type": "markdown",
   "id": "a2071110-193e-46f6-848c-b2557b68154b",
   "metadata": {},
   "source": [
    "35. Create a program that generates Pascal's triangle up to a specified number of rows using list\n",
    "comprehension"
   ]
  },
  {
   "cell_type": "code",
   "execution_count": 7,
   "id": "8ac03643-8c5c-4805-a3ec-2d0b0d6da942",
   "metadata": {},
   "outputs": [
    {
     "name": "stdin",
     "output_type": "stream",
     "text": [
      "Enter the number of rows for Pascals triangle:  3\n"
     ]
    },
    {
     "name": "stdout",
     "output_type": "stream",
     "text": [
      "Pascal's Triangle:\n",
      "[1]\n",
      "[1, 1]\n",
      "[1, 2, 1]\n"
     ]
    }
   ],
   "source": [
    "def generate_pascals_triangle(num_rows):\n",
    "    if num_rows <= 0:\n",
    "        return []\n",
    "    \n",
    "    # Initialize Pascals triangle with the first row:\n",
    "    triangle = [[1]]\n",
    "    \n",
    "    # generate the remaining rows of Pascals triangle:\n",
    "    for i in range(1,num_rows):\n",
    "        # Use list comprehension to calculate each row:\n",
    "        row = [1] + [triangle[i-1][j-1] + triangle[i-1][j] for j in range(1,i)] + [ 1]\n",
    "        triangle.append(row)\n",
    "        \n",
    "    return triangle\n",
    "# Input the number of rows for Pascals triangle:\n",
    "num_rows = int(input(\"Enter the number of rows for Pascals triangle: \"))\n",
    "\n",
    "# Generate Pascals triangle:\n",
    "pascals_triangle = generate_pascals_triangle(num_rows)\n",
    "\n",
    "# Print Pascals triangle:\n",
    "print(\"Pascal's Triangle:\")\n",
    "for row in pascals_triangle:\n",
    "    print(row)"
   ]
  },
  {
   "cell_type": "markdown",
   "id": "8168d19b-023a-4f9b-b959-f48cd12daa58",
   "metadata": {},
   "source": [
    "36. Develop a program that calculates the sum of the digits of a factorial of numbers from 1 to 5 using list\n",
    "comprehension."
   ]
  },
  {
   "cell_type": "code",
   "execution_count": 8,
   "id": "740c97c9-ea82-4b2e-b024-b4c432060254",
   "metadata": {},
   "outputs": [
    {
     "name": "stdout",
     "output_type": "stream",
     "text": [
      "Factorial of 1 : 1\n",
      "sum of digits: 1\n",
      "\n",
      "Factorial of 2 : 2\n",
      "sum of digits: 2\n",
      "\n",
      "Factorial of 3 : 6\n",
      "sum of digits: 6\n",
      "\n",
      "Factorial of 4 : 24\n",
      "sum of digits: 6\n",
      "\n",
      "Factorial of 5 : 120\n",
      "sum of digits: 3\n",
      "\n"
     ]
    }
   ],
   "source": [
    "# Function to calculate the factorial of two numbers:\n",
    "def factorial(n):\n",
    "    if n == 0 or n == 1:\n",
    "        return 1\n",
    "    else:\n",
    "        return n*factorial(n-1)\n",
    "# calculate the factorials of numbers from 1 to 5 using list comprehension:\n",
    "factorials = [factorial(i) for i in range(1,6)]\n",
    "\n",
    "#calculate the sum of digits of each factorial using list comprehension:\n",
    "sum_of_digits = [sum(int(digit) for digit in str(factorial)) for factorial in factorials ]\n",
    "\n",
    "#print the results:\n",
    "for i, factorial in enumerate(factorials,start =1):\n",
    "    print(f\"Factorial of {i} :\",factorial)\n",
    "    print(f\"sum of digits:\",sum_of_digits[i-1])\n",
    "    \n",
    "    print()"
   ]
  },
  {
   "cell_type": "markdown",
   "id": "c3b197c4-41e7-4097-b1be-c82ab34729cd",
   "metadata": {},
   "source": [
    "37. Write a program that finds the longest word in a sentence using list comprehension."
   ]
  },
  {
   "cell_type": "code",
   "execution_count": 22,
   "id": "53848208-3ce8-412f-9df8-638207843fdc",
   "metadata": {},
   "outputs": [
    {
     "name": "stdin",
     "output_type": "stream",
     "text": [
      "Enter a sentence:  i am okay\n"
     ]
    },
    {
     "name": "stdout",
     "output_type": "stream",
     "text": [
      "NO words found in the sentence.\n"
     ]
    }
   ],
   "source": [
    "# Input sentence:\n",
    "sentence = input(\"Enter a sentence: \")\n",
    "\n",
    "# Split the sentence into words:\n",
    "words = sentence.split()\n",
    "\n",
    "# use list comprehension to find the longest word:\n",
    "longest_words = [word for word in words if len(word) == max((word)) for word in words ]\n",
    "\n",
    "# Print the longest word:\n",
    "if longest_words:\n",
    "    if len(longest_words) == 1:\n",
    "        print(\"THe longest word is:\",longest_words[0])\n",
    "    else:\n",
    "        print(\"The longest words are :\",','.join(longest_words))\n",
    "else:\n",
    "    print(\"NO words found in the sentence.\")\n"
   ]
  },
  {
   "cell_type": "markdown",
   "id": "7fedc553-513b-483f-b797-1576fb509b73",
   "metadata": {},
   "source": [
    "38. Create a program that filters a list of strings to include only those with more than three vowels using list\n",
    "comprehension."
   ]
  },
  {
   "cell_type": "code",
   "execution_count": 13,
   "id": "632a9d6e-2520-48fd-b783-961e52ae33b6",
   "metadata": {},
   "outputs": [
    {
     "name": "stdout",
     "output_type": "stream",
     "text": [
      "original list of strings: ['vanshika', 'jain', 'and', 'pw', 'skills', 'education']\n",
      "Filtered list with more than three vowels: ['education']\n"
     ]
    }
   ],
   "source": [
    "# input string:\n",
    "strings = [\"vanshika\",\"jain\",\"and\",\"pw\",\"skills\",\"education\"]\n",
    "# function to count the vowels:\n",
    "def count_vowels(string):\n",
    "    vowels = \"AaEeIiOoUu\"\n",
    "    return sum(1 for char in string if char in vowels)\n",
    "# use list comprehension to filter strings with more than three vowels:\n",
    "filtered_strings  =  [string for string in strings if count_vowels(string) > 3]\n",
    "                                                        \n",
    "# Print the filtered list:\n",
    "print(\"original list of strings:\",strings)\n",
    "print(\"Filtered list with more than three vowels:\",filtered_strings)                                                                 "
   ]
  },
  {
   "cell_type": "markdown",
   "id": "db80af06-90a5-4529-8d4b-86d7622f1845",
   "metadata": {},
   "source": [
    "39. Develop a program that calculates the sum of the digits of numbers from 1 to 1000 using list\n",
    "comprehension."
   ]
  },
  {
   "cell_type": "code",
   "execution_count": 16,
   "id": "4e4a58a8-821a-438d-a25c-dfc79a3c78f1",
   "metadata": {},
   "outputs": [
    {
     "name": "stdout",
     "output_type": "stream",
     "text": [
      "The sum of digits from 1 to 1000 :  13501\n"
     ]
    }
   ],
   "source": [
    "# use list comprehension to calculate the sum of digits :\n",
    "sum_of_digits = [sum(int(digit) for digit in str(num)) for num in range(1,1001)]\n",
    "# calculate the total sum:\n",
    "total_sum = sum(sum_of_digits)\n",
    "print(\"The sum of digits from 1 to 1000 : \" ,total_sum)"
   ]
  },
  {
   "cell_type": "markdown",
   "id": "bf9bb0ea-d103-4181-8e07-32ecb2f1310a",
   "metadata": {},
   "source": [
    "40. Write a program that generates a list of prime palindromic numbers using list comprehension."
   ]
  },
  {
   "cell_type": "code",
   "execution_count": 18,
   "id": "31f99c5a-94ec-4735-8ff5-ec26088d701c",
   "metadata": {},
   "outputs": [
    {
     "name": "stdout",
     "output_type": "stream",
     "text": [
      "Prime palindromic numbers from 1 to 1000 : [2, 3, 5, 7, 11, 101, 131, 151, 181, 191, 313, 353, 373, 383, 727, 757, 787, 797, 919, 929]\n"
     ]
    }
   ],
   "source": [
    "# Function to check if a number is prime:\n",
    "def is_prime(n):\n",
    "    if n<= 1:\n",
    "        return False\n",
    "    if n <=3:\n",
    "        return True\n",
    "    if n % 2 == 0 or n%3==0:\n",
    "        return False\n",
    "    i = 5\n",
    "    while i*i <= n:\n",
    "        if n%i == 0 or n%(i+2) == 0:\n",
    "            return False\n",
    "        i += 6\n",
    "    return True\n",
    "\n",
    "# use list comprehension to generate prime palindromic numbers:\n",
    "prime_palindromic_numbers = [num for num in range(1,1001) if str(num) == str(num)[::-1] and is_prime(num)]\n",
    "\n",
    "# print the list of primwe palindromic numbers:\n",
    "print(\"Prime palindromic numbers from 1 to 1000 :\",prime_palindromic_numbers)\n"
   ]
  },
  {
   "cell_type": "code",
   "execution_count": null,
   "id": "7ad29497-0981-4cbd-bf5d-9e5a0df23afe",
   "metadata": {},
   "outputs": [],
   "source": []
  },
  {
   "cell_type": "code",
   "execution_count": null,
   "id": "f7c1c4ac-1894-4510-83fe-624314141f12",
   "metadata": {},
   "outputs": [],
   "source": []
  },
  {
   "cell_type": "code",
   "execution_count": null,
   "id": "893313f0-e0ca-443a-ba8e-782f0a026a15",
   "metadata": {},
   "outputs": [],
   "source": []
  },
  {
   "cell_type": "code",
   "execution_count": null,
   "id": "a3c3b2dc-90b2-4d19-b73d-c94152ab4663",
   "metadata": {},
   "outputs": [],
   "source": []
  }
 ],
 "metadata": {
  "kernelspec": {
   "display_name": "Python 3 (ipykernel)",
   "language": "python",
   "name": "python3"
  },
  "language_info": {
   "codemirror_mode": {
    "name": "ipython",
    "version": 3
   },
   "file_extension": ".py",
   "mimetype": "text/x-python",
   "name": "python",
   "nbconvert_exporter": "python",
   "pygments_lexer": "ipython3",
   "version": "3.10.8"
  }
 },
 "nbformat": 4,
 "nbformat_minor": 5
}
